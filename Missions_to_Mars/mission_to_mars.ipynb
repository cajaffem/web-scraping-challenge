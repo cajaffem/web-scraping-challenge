{
 "cells": [
  {
   "cell_type": "code",
   "execution_count": 1,
   "metadata": {},
   "outputs": [],
   "source": [
    "# Scrape the NASA Mars News Site and collect the latest News Title and Paragraph Text...\n",
    "# Assign the text to variables that you can reference later.\n",
    "\n",
    "# Example:\n",
    "# news_title = \"NASA's Next Mars Mission to Investigate Interior of Red Planet\"\n",
    "\n",
    "# news_p = \"Preparation of NASA's next spacecraft to Mars, InSight, has ramped up this summer, on course for launch next May from Vandenberg Air Force Base in central California -- the first interplanetary launch in history from America's West Coast.\"\n",
    "from splinter import Browser\n",
    "from bs4 import BeautifulSoup as bs\n",
    "import requests\n",
    "import time\n",
    "import pandas as pd\n",
    "\n",
    "url_NASA_mars = \"https://mars.nasa.gov/#\"\n",
    "response = requests.get(url_NASA_mars, headers={'Cache-Control': 'no-cache'})\n",
    "soup = bs(response.text, \"html\")"
   ]
  },
  {
   "cell_type": "code",
   "execution_count": 2,
   "metadata": {},
   "outputs": [
    {
     "name": "stdout",
     "output_type": "stream",
     "text": [
      "NASA's Perseverance Mars Team Adjusts to Work in the Time of Coronavirus \n",
      " The rover team is pushing forward with its mission-critical work while putting the health and safety of their colleagues and community first.\n"
     ]
    }
   ],
   "source": [
    "news_latest_title = soup.body.find(\"h1\", class_=\"media_feature_title\").text\n",
    "news_title_stripped = news_latest_title.strip()\n",
    "\n",
    "news_latest_para = soup.body.find(\"div\", class_=\"description\").text\n",
    "news_para_stripped = news_latest_para.strip(\"\\nMORE\")\n",
    "\n",
    "print(news_title_stripped,\"\\n\", news_para_stripped)"
   ]
  },
  {
   "cell_type": "code",
   "execution_count": 4,
   "metadata": {},
   "outputs": [
    {
     "name": "stdout",
     "output_type": "stream",
     "text": [
      "https://www.jpl.nasa.gov/spaceimages/images/largesize/PIA17356_hires.jpg\n"
     ]
    }
   ],
   "source": [
    "# Visit the url for JPL Featured Space Image here.\n",
    "\n",
    "\n",
    "# Use splinter to navigate the site and find the image url for the current Featured Mars Image and assign the url string to a variable called featured_image_url.\n",
    "# Make sure to find the image url to the full size .jpg image.\n",
    "# Make sure to save a complete url string for this image.\n",
    "\n",
    "executable_path = {'executable_path': '../chromedriver.exe'}\n",
    "browser = Browser('chrome', **executable_path, headless=False)\n",
    "\n",
    "url_image = \"https://www.jpl.nasa.gov/spaceimages/?search=&category=Mars\"\n",
    "\n",
    "browser.visit(url_image)\n",
    "browser.find_by_id(\"full_image\").first.click()\n",
    "time.sleep(2)\n",
    "html = browser.html\n",
    "soup = bs(html, \"html.parser\")\n",
    "browser.quit()\n",
    "\n",
    "# navigate down into href in newly generated 'fancy-box' html which contains unique image_id; 'PIA' followed by 5-digit code\n",
    "\n",
    "image_div = soup.find('div', id=\"fancybox-lock\")\n",
    "image_anchor = image_div.find(\"a\", class_=\"button\")\n",
    "image_href = image_anchor[\"href\"]\n",
    "\n",
    "# format href to extract only image_id\n",
    "\n",
    "image_id = image_href.strip(\"/spaceimages/details.php?id=\")\n",
    "image_id_final = image_id.strip()\n",
    "\n",
    "# create complete url string variable for FULL-SIZED image with scrapped image_id added\n",
    "\n",
    "url_image_fullsize = f\"https://www.jpl.nasa.gov/spaceimages/images/largesize/{image_id_final}_hires.jpg\"\n",
    "\n",
    "print(url_image_fullsize)"
   ]
  },
  {
   "cell_type": "code",
   "execution_count": 5,
   "metadata": {},
   "outputs": [
    {
     "name": "stdout",
     "output_type": "stream",
     "text": [
      "InSight sol 501 (2020-04-24) low -93.5ºC (-136.2ºF) high -4.3ºC (24.3ºF)\n",
      "winds from the SW at 5.0 m/s (11.3 mph) gusting to 15.8 m/s (35.3 mph)\n",
      "pressure at 6.70 \n"
     ]
    }
   ],
   "source": [
    "# Visit the Mars Weather twitter account here and scrape the latest Mars weather tweet from the page...\n",
    "# Save the tweet text for the weather report as a variable called mars_weather.\n",
    "# Be sure you are not signed in to twitter, or scraping may become more difficult.\n",
    "# Twitter frequently changes how information is presented on their website... \n",
    "# If you are having difficulty getting the correct html tag data, consider researching Regular Expression Patterns and...\n",
    "# how they can be used in combination with the .find() method.\n",
    "url_twitter_mars = \"https://twitter.com/marswxreport?lang=en\"\n",
    "response = requests.get(url_twitter_mars)\n",
    "soup = bs(response.text, \"html\")\n",
    "\n",
    "mars_weather = soup.find(\"p\", class_=\"TweetTextSize TweetTextSize--normal js-tweet-text tweet-text\").text\n",
    "mars_weather_split = mars_weather.partition(\"hPapic\")\n",
    "mars_weather_final = mars_weather_split[0]\n",
    "print(mars_weather_final)"
   ]
  },
  {
   "cell_type": "code",
   "execution_count": 6,
   "metadata": {},
   "outputs": [
    {
     "data": {
      "text/html": [
       "<div>\n",
       "<style scoped>\n",
       "    .dataframe tbody tr th:only-of-type {\n",
       "        vertical-align: middle;\n",
       "    }\n",
       "\n",
       "    .dataframe tbody tr th {\n",
       "        vertical-align: top;\n",
       "    }\n",
       "\n",
       "    .dataframe thead th {\n",
       "        text-align: right;\n",
       "    }\n",
       "</style>\n",
       "<table border=\"1\" class=\"dataframe\">\n",
       "  <thead>\n",
       "    <tr style=\"text-align: right;\">\n",
       "      <th></th>\n",
       "      <th>0</th>\n",
       "      <th>1</th>\n",
       "    </tr>\n",
       "  </thead>\n",
       "  <tbody>\n",
       "    <tr>\n",
       "      <td>0</td>\n",
       "      <td>Equatorial Diameter:</td>\n",
       "      <td>6,792 km</td>\n",
       "    </tr>\n",
       "    <tr>\n",
       "      <td>1</td>\n",
       "      <td>Polar Diameter:</td>\n",
       "      <td>6,752 km</td>\n",
       "    </tr>\n",
       "    <tr>\n",
       "      <td>2</td>\n",
       "      <td>Mass:</td>\n",
       "      <td>6.39 × 10^23 kg (0.11 Earths)</td>\n",
       "    </tr>\n",
       "    <tr>\n",
       "      <td>3</td>\n",
       "      <td>Moons:</td>\n",
       "      <td>2 (Phobos &amp; Deimos)</td>\n",
       "    </tr>\n",
       "    <tr>\n",
       "      <td>4</td>\n",
       "      <td>Orbit Distance:</td>\n",
       "      <td>227,943,824 km (1.38 AU)</td>\n",
       "    </tr>\n",
       "    <tr>\n",
       "      <td>5</td>\n",
       "      <td>Orbit Period:</td>\n",
       "      <td>687 days (1.9 years)</td>\n",
       "    </tr>\n",
       "    <tr>\n",
       "      <td>6</td>\n",
       "      <td>Surface Temperature:</td>\n",
       "      <td>-87 to -5 °C</td>\n",
       "    </tr>\n",
       "    <tr>\n",
       "      <td>7</td>\n",
       "      <td>First Record:</td>\n",
       "      <td>2nd millennium BC</td>\n",
       "    </tr>\n",
       "    <tr>\n",
       "      <td>8</td>\n",
       "      <td>Recorded By:</td>\n",
       "      <td>Egyptian astronomers</td>\n",
       "    </tr>\n",
       "  </tbody>\n",
       "</table>\n",
       "</div>"
      ],
      "text/plain": [
       "                      0                              1\n",
       "0  Equatorial Diameter:                       6,792 km\n",
       "1       Polar Diameter:                       6,752 km\n",
       "2                 Mass:  6.39 × 10^23 kg (0.11 Earths)\n",
       "3                Moons:            2 (Phobos & Deimos)\n",
       "4       Orbit Distance:       227,943,824 km (1.38 AU)\n",
       "5         Orbit Period:           687 days (1.9 years)\n",
       "6  Surface Temperature:                   -87 to -5 °C\n",
       "7         First Record:              2nd millennium BC\n",
       "8          Recorded By:           Egyptian astronomers"
      ]
     },
     "execution_count": 6,
     "metadata": {},
     "output_type": "execute_result"
    }
   ],
   "source": [
    "# Visit the Mars Facts webpage here and use Pandas to scrape the table containing facts about the planet...\n",
    "# including Diameter, Mass, etc.\n",
    "# Use Pandas to convert the data to a HTML table string.\n",
    "url_table = \"https://space-facts.com/mars/\"\n",
    "table = pd.read_html(url_table)\n",
    "df = table[0]\n",
    "df"
   ]
  },
  {
   "cell_type": "code",
   "execution_count": 7,
   "metadata": {},
   "outputs": [
    {
     "data": {
      "text/plain": [
       "'<table border=\"1\" class=\"dataframe\">  <thead>    <tr style=\"text-align: right;\">      <th></th>      <th>0</th>      <th>1</th>    </tr>  </thead>  <tbody>    <tr>      <th>0</th>      <td>Equatorial Diameter:</td>      <td>6,792 km</td>    </tr>    <tr>      <th>1</th>      <td>Polar Diameter:</td>      <td>6,752 km</td>    </tr>    <tr>      <th>2</th>      <td>Mass:</td>      <td>6.39 × 10^23 kg (0.11 Earths)</td>    </tr>    <tr>      <th>3</th>      <td>Moons:</td>      <td>2 (Phobos &amp; Deimos)</td>    </tr>    <tr>      <th>4</th>      <td>Orbit Distance:</td>      <td>227,943,824 km (1.38 AU)</td>    </tr>    <tr>      <th>5</th>      <td>Orbit Period:</td>      <td>687 days (1.9 years)</td>    </tr>    <tr>      <th>6</th>      <td>Surface Temperature:</td>      <td>-87 to -5 °C</td>    </tr>    <tr>      <th>7</th>      <td>First Record:</td>      <td>2nd millennium BC</td>    </tr>    <tr>      <th>8</th>      <td>Recorded By:</td>      <td>Egyptian astronomers</td>    </tr>  </tbody></table>'"
      ]
     },
     "execution_count": 7,
     "metadata": {},
     "output_type": "execute_result"
    }
   ],
   "source": [
    "html_table = df.to_html()\n",
    "html_table_final = html_table.replace('\\n', '')\n",
    "html_table_final"
   ]
  },
  {
   "cell_type": "code",
   "execution_count": 9,
   "metadata": {},
   "outputs": [],
   "source": [
    "# Visit the USGS Astrogeology site here to obtain high resolution images for each of Mar's hemispheres.\n",
    "# You will need to click each of the links to the hemispheres in order to find the image url to the full resolution image.\n",
    "# Save both the image url string for the full resolution hemisphere image, and the Hemisphere title containing the hemisphere name...\n",
    "# Use a Python dictionary to store the data using the keys img_url and title.\n",
    "# Append the dictionary with the image url string and the hemisphere title to a list...\n",
    "# This list will contain one dictionary for each hemisphere.\n",
    "executable_path = {'executable_path': '../chromedriver.exe'}\n",
    "browser = Browser('chrome', **executable_path, headless=False)\n",
    "\n",
    "# use splinter to navigate to and from each hemisphere's linked page and store each url as a bs object\n",
    "\n",
    "url_hemispheres = \"https://astrogeology.usgs.gov/search/results?q=hemisphere+enhanced&k1=target&v1=Mars\"\n",
    "browser.visit(url_hemispheres)\n",
    "browser.links.find_by_partial_text(\"Cerberus Hemisphere Enhanced\").click()\n",
    "html_cerb = browser.html\n",
    "soup_cerb = bs(html_cerb, \"html.parser\")\n",
    "browser.back()\n",
    "browser.links.find_by_partial_text(\"Schiaparelli Hemisphere Enhanced\").click()\n",
    "html_schia = browser.html\n",
    "soup_schia = bs(html_schia, \"html.parser\")\n",
    "browser.back()\n",
    "browser.links.find_by_partial_text(\"Syrtis Major Hemisphere Enhanced\").click()\n",
    "html_syrt = browser.html\n",
    "soup_syrt = bs(html_syrt, \"html.parser\")\n",
    "browser.back()\n",
    "browser.links.find_by_partial_text(\"Valles Marineris Hemisphere Enhanced\").click()\n",
    "html_vall = browser.html\n",
    "soup_vall = bs(html_vall, \"html.parser\")\n",
    "browser.quit()\n",
    "\n",
    "# find & store the urls to full image in each hemisphere's respective url\n",
    "\n",
    "url_image_cerb = soup_cerb.find(\"a\", text=\"Sample\")[\"href\"]\n",
    "url_image_schia = soup_schia.find(\"a\", text=\"Sample\")[\"href\"]\n",
    "url_image_syrt = soup_syrt.find(\"a\", text=\"Sample\")[\"href\"]\n",
    "url_image_vall = soup_vall.find(\"a\", text=\"Sample\")[\"href\"]\n",
    "\n",
    "# create list of dictionaries\n",
    "\n",
    "hemisphere_image_urls = [\n",
    "    {\"title\": \"Valles Marineris Hemisphere\", \"img_url\": url_image_vall},\n",
    "    {\"title\": \"Cerberus Hemisphere\", \"img_url\": url_image_cerb},\n",
    "    {\"title\": \"Schiaparelli Hemisphere\", \"img_url\": url_image_schia},\n",
    "    {\"title\": \"Syrtis Major Hemisphere\", \"img_url\": url_image_syrt},\n",
    "]"
   ]
  },
  {
   "cell_type": "code",
   "execution_count": null,
   "metadata": {},
   "outputs": [],
   "source": []
  }
 ],
 "metadata": {
  "kernelspec": {
   "display_name": "Python 3",
   "language": "python",
   "name": "python3"
  },
  "language_info": {
   "codemirror_mode": {
    "name": "ipython",
    "version": 3
   },
   "file_extension": ".py",
   "mimetype": "text/x-python",
   "name": "python",
   "nbconvert_exporter": "python",
   "pygments_lexer": "ipython3",
   "version": "3.7.4"
  }
 },
 "nbformat": 4,
 "nbformat_minor": 2
}
