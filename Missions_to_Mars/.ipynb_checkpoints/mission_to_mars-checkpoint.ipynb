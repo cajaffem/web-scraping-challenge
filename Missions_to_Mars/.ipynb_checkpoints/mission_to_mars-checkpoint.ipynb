{
 "cells": [
  {
   "cell_type": "code",
   "execution_count": null,
   "metadata": {},
   "outputs": [],
   "source": [
    "# https://gw.bootcampcontent.com/GW-Coding-Boot-Camp/GWU-ARL-DATA-PT-12-2019-U-C/tree/master/02-Homework/12-Web-Scraping-and-Document-Databases/Instructions"
   ]
  },
  {
   "cell_type": "code",
   "execution_count": 1,
   "metadata": {},
   "outputs": [],
   "source": [
    "# Scrape the NASA Mars News Site and collect the latest News Title and Paragraph Text...\n",
    "# Assign the text to variables that you can reference later.\n",
    "\n",
    "# Example:\n",
    "# news_title = \"NASA's Next Mars Mission to Investigate Interior of Red Planet\"\n",
    "\n",
    "# news_p = \"Preparation of NASA's next spacecraft to Mars, InSight, has ramped up this summer, on course for launch next May from Vandenberg Air Force Base in central California -- the first interplanetary launch in history from America's West Coast.\"\n",
    "from splinter import Browser\n",
    "from bs4 import BeautifulSoup as bs\n",
    "import requests\n",
    "import time\n",
    "import pandas as pd\n",
    "\n",
    "url_NASA_mars = \"https://mars.nasa.gov/#\"\n",
    "response = requests.get(url_NASA_mars, headers={'Cache-Control': 'no-cache'})\n",
    "soup = bs(response.text, \"html\")"
   ]
  },
  {
   "cell_type": "code",
   "execution_count": 2,
   "metadata": {},
   "outputs": [],
   "source": [
    "# print(soup.prettify())"
   ]
  },
  {
   "cell_type": "code",
   "execution_count": 3,
   "metadata": {},
   "outputs": [
    {
     "name": "stdout",
     "output_type": "stream",
     "text": [
      "NASA's Perseverance Mars Team Adjusts to Work in the Time of Coronavirus \n",
      " The rover team is pushing forward with its mission-critical work while putting the health and safety of their colleagues and community first.\n"
     ]
    }
   ],
   "source": [
    "news_latest_title = soup.body.find(\"h1\", class_=\"media_feature_title\").text\n",
    "news_title_stripped = news_latest_title.strip()\n",
    "\n",
    "news_latest_para = soup.body.find(\"div\", class_=\"description\").text\n",
    "news_para_stripped = news_latest_para.strip(\"\\nMORE\")\n",
    "\n",
    "print(news_title_stripped,\"\\n\", news_para_stripped)"
   ]
  },
  {
   "cell_type": "code",
   "execution_count": 11,
   "metadata": {},
   "outputs": [
    {
     "name": "stdout",
     "output_type": "stream",
     "text": [
      "https://www.jpl.nasa.gov/spaceimages/images/largesize/PIA07137_hires.jpg\n"
     ]
    }
   ],
   "source": [
    "# Visit the url for JPL Featured Space Image here.\n",
    "\n",
    "\n",
    "# Use splinter to navigate the site and find the image url for the current Featured Mars Image and assign the url string to a variable called featured_image_url.\n",
    "# Make sure to find the image url to the full size .jpg image.\n",
    "# Make sure to save a complete url string for this image.\n",
    "\n",
    "executable_path = {'executable_path': 'chromedriver.exe'}\n",
    "browser = Browser('chrome', **executable_path, headless=False)\n",
    "\n",
    "url_image = \"https://www.jpl.nasa.gov/spaceimages/?search=&category=Mars\"\n",
    "response = requests.get(url_image)\n",
    "\n",
    "browser.visit(url_image)\n",
    "browser.find_by_id(\"full_image\").first.click()\n",
    "time.sleep(2)\n",
    "html = browser.html\n",
    "soup = bs(html, 'html.parser')\n",
    "browser.quit()\n",
    "\n",
    "# navigate down into href in newly generated 'fancy-box' html which contains unique image_id; 'PIA' followed by 5-digit code\n",
    "\n",
    "image_div = soup.find('div', id=\"fancybox-lock\")\n",
    "image_anchor = image_div.find(\"a\", class_=\"button\")\n",
    "image_href = image_anchor[\"href\"]\n",
    "\n",
    "# format href to extract only image_id\n",
    "\n",
    "image_id = image_href.strip(\"/spaceimages/details.php?id=\")\n",
    "image_id_final = image_id.strip()\n",
    "\n",
    "# create complete url string variable with scrapped image_id\n",
    "\n",
    "url_image_fullsize = f\"https://www.jpl.nasa.gov/spaceimages/images/largesize/{image_id_final}_hires.jpg\"\n",
    "\n",
    "print(url_image_fullsize)"
   ]
  },
  {
   "cell_type": "code",
   "execution_count": 14,
   "metadata": {},
   "outputs": [
    {
     "name": "stdout",
     "output_type": "stream",
     "text": [
      "InSight sol 498 (2020-04-21) low -94.3ºC (-137.7ºF) high -5.7ºC (21.8ºF)\n",
      "winds from the SW at 5.0 m/s (11.3 mph) gusting to 16.6 m/s (37.2 mph)\n",
      "pressure at 6.60 \n"
     ]
    }
   ],
   "source": [
    "# Visit the Mars Weather twitter account here and scrape the latest Mars weather tweet from the page...\n",
    "# Save the tweet text for the weather report as a variable called mars_weather.\n",
    "# Be sure you are not signed in to twitter, or scraping may become more difficult.\n",
    "# Twitter frequently changes how information is presented on their website... \n",
    "# If you are having difficulty getting the correct html tag data, consider researching Regular Expression Patterns and...\n",
    "# how they can be used in combination with the .find() method.\n",
    "url_twitter_mars = \"https://twitter.com/marswxreport?lang=en\"\n",
    "response = requests.get(url_twitter_mars)\n",
    "soup = bs(response.text, \"html\")\n",
    "\n",
    "mars_weather = soup.find(\"p\", class_=\"TweetTextSize TweetTextSize--normal js-tweet-text tweet-text\").text\n",
    "mars_weather_final = twata.strip(\"hPapic.twitter.com/ZyqDCASvU3\")\n",
    "print(mars_weather_final)"
   ]
  },
  {
   "cell_type": "code",
   "execution_count": null,
   "metadata": {},
   "outputs": [],
   "source": [
    "# Visit the Mars Facts webpage here and use Pandas to scrape the table containing facts about the planet...\n",
    "# including Diameter, Mass, etc.\n",
    "# Use Pandas to convert the data to a HTML table string.\n"
   ]
  },
  {
   "cell_type": "code",
   "execution_count": null,
   "metadata": {},
   "outputs": [],
   "source": [
    "# Visit the USGS Astrogeology site here to obtain high resolution images for each of Mar's hemispheres.\n",
    "# You will need to click each of the links to the hemispheres in order to find the image url to the full resolution image.\n",
    "# Save both the image url string for the full resolution hemisphere image, and the Hemisphere title containing the hemisphere name...\n",
    "# Use a Python dictionary to store the data using the keys img_url and title.\n",
    "# Append the dictionary with the image url string and the hemisphere title to a list...\n",
    "# This list will contain one dictionary for each hemisphere.\n",
    "\n",
    "# Example:\n",
    "hemisphere_image_urls = [\n",
    "    {\"title\": \"Valles Marineris Hemisphere\", \"img_url\": \"...\"},\n",
    "    {\"title\": \"Cerberus Hemisphere\", \"img_url\": \"...\"},\n",
    "    {\"title\": \"Schiaparelli Hemisphere\", \"img_url\": \"...\"},\n",
    "    {\"title\": \"Syrtis Major Hemisphere\", \"img_url\": \"...\"},\n",
    "]"
   ]
  },
  {
   "cell_type": "code",
   "execution_count": null,
   "metadata": {},
   "outputs": [],
   "source": []
  }
 ],
 "metadata": {
  "kernelspec": {
   "display_name": "Python 3",
   "language": "python",
   "name": "python3"
  },
  "language_info": {
   "codemirror_mode": {
    "name": "ipython",
    "version": 3
   },
   "file_extension": ".py",
   "mimetype": "text/x-python",
   "name": "python",
   "nbconvert_exporter": "python",
   "pygments_lexer": "ipython3",
   "version": "3.7.4"
  }
 },
 "nbformat": 4,
 "nbformat_minor": 2
}
